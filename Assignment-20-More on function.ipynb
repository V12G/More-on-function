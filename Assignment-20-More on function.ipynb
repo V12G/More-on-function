{
 "cells": [
  {
   "cell_type": "code",
   "execution_count": 5,
   "id": "14dc31d3",
   "metadata": {},
   "outputs": [
    {
     "name": "stdout",
     "output_type": "stream",
     "text": [
      "Enter numbers seprated by comma1,2,3,4,51,2,3,2\n",
      "{1, 2, 3, 4, 51},"
     ]
    }
   ],
   "source": [
    "'''Write a python program to create a function that takes a list and returns a new list\n",
    "with the original list's unique elements.'''\n",
    "def list():\n",
    "    a=[int(e) for e in input(\"Enter numbers seprated by comma\").split(\",\")]\n",
    "    s=set(a)\n",
    "   \n",
    "    print(s,end=\",\")\n",
    "    \n",
    "list()"
   ]
  },
  {
   "cell_type": "code",
   "execution_count": 20,
   "id": "45998548",
   "metadata": {},
   "outputs": [
    {
     "name": "stdout",
     "output_type": "stream",
     "text": [
      "Prime\n"
     ]
    }
   ],
   "source": [
    "'''Write a python program to create a function that takes a number as a parameter and\n",
    "checks if the number is prime or not.'''\n",
    "def Check_prime(n):\n",
    "    for e in range(2,n):\n",
    "        if n%e==0:\n",
    "            print(\"Not prime\")\n",
    "            \n",
    "            break\n",
    "            \n",
    "    else:\n",
    "        print(\"Prime\")\n",
    "Check_prime(11)"
   ]
  },
  {
   "cell_type": "code",
   "execution_count": 22,
   "id": "fbd909f0",
   "metadata": {},
   "outputs": [
    {
     "name": "stdout",
     "output_type": "stream",
     "text": [
      "2,4,6,8,"
     ]
    }
   ],
   "source": [
    "# Write a python program to create a function that prints the even numbers from a given list.\n",
    "l= [1, 2, 3, 4, 5, 6, 7, 8, 9]\n",
    "def even():\n",
    "    for e in l:\n",
    "        if e%2==0:\n",
    "            print(e,end=\",\")\n",
    "even()"
   ]
  },
  {
   "cell_type": "code",
   "execution_count": 39,
   "id": "1d58e42b",
   "metadata": {},
   "outputs": [
    {
     "name": "stdout",
     "output_type": "stream",
     "text": [
      "String is palindrome\n"
     ]
    }
   ],
   "source": [
    "'''Write a python program to create a function that checks whether a passed string is\n",
    "palindrome or not.'''\n",
    "def palindrome(n):\n",
    "    for e in n:\n",
    "        if n[:]==n[::-1]:\n",
    "            print(\"String is palindrome\")\n",
    "            break\n",
    "    else:\n",
    "        print(\"String is not palindrome\")\n",
    "            \n",
    "palindrome('peep')"
   ]
  },
  {
   "cell_type": "code",
   "execution_count": 3,
   "id": "2ac82f04",
   "metadata": {},
   "outputs": [
    {
     "name": "stdout",
     "output_type": "stream",
     "text": [
      "2\n"
     ]
    }
   ],
   "source": [
    "# Write a python program to create a function to find the Min of three numbers.\n",
    "def small(a,b,c):\n",
    "    a=min(a,b,c)\n",
    "    print(a)\n",
    "small(2,4,3)"
   ]
  },
  {
   "cell_type": "code",
   "execution_count": 21,
   "id": "e5b7145e",
   "metadata": {},
   "outputs": [
    {
     "name": "stdout",
     "output_type": "stream",
     "text": [
      "[1, 4, 9, 16, 25, 36, 49, 64, 81, 100, 121, 144, 169, 196, 225, 256, 289, 324, 361, 400, 441, 484, 529, 576, 625, 676, 729, 784, 841, 900] "
     ]
    }
   ],
   "source": [
    "'''Write a python program to create a function and print a list where the values are\n",
    "square of numbers between 1 and 30.'''\n",
    "def squre():\n",
    "    l=[]\n",
    "    for e in range(1,31):\n",
    "        l.append(e**2)\n",
    "    print(l,end=' ')\n",
    "    \n",
    "     \n",
    "squre()"
   ]
  },
  {
   "cell_type": "code",
   "execution_count": 29,
   "id": "89d5aeb1",
   "metadata": {},
   "outputs": [
    {
     "ename": "TypeError",
     "evalue": "'int' object is not callable",
     "output_type": "error",
     "traceback": [
      "\u001b[1;31m---------------------------------------------------------------------------\u001b[0m",
      "\u001b[1;31mTypeError\u001b[0m                                 Traceback (most recent call last)",
      "\u001b[1;32m~\\AppData\\Local\\Temp/ipykernel_5212/847616876.py\u001b[0m in \u001b[0;36m<module>\u001b[1;34m\u001b[0m\n\u001b[0;32m      6\u001b[0m         \u001b[0mm\u001b[0m\u001b[1;33m=\u001b[0m\u001b[0ma\u001b[0m\u001b[1;33m*\u001b[0m\u001b[0mb\u001b[0m\u001b[1;33m\u001b[0m\u001b[1;33m\u001b[0m\u001b[0m\n\u001b[0;32m      7\u001b[0m         \u001b[1;32mreturn\u001b[0m \u001b[0mm\u001b[0m\u001b[1;33m(\u001b[0m\u001b[0ma\u001b[0m\u001b[1;33m,\u001b[0m\u001b[0mb\u001b[0m\u001b[1;33m)\u001b[0m\u001b[1;33m,\u001b[0m\u001b[0mc\u001b[0m\u001b[1;33m\u001b[0m\u001b[1;33m\u001b[0m\u001b[0m\n\u001b[1;32m----> 8\u001b[1;33m \u001b[0mmul\u001b[0m\u001b[1;33m(\u001b[0m\u001b[1;36m2\u001b[0m\u001b[1;33m,\u001b[0m\u001b[1;36m3\u001b[0m\u001b[1;33m,\u001b[0m\u001b[0madd\u001b[0m\u001b[1;33m)\u001b[0m\u001b[1;33m\u001b[0m\u001b[1;33m\u001b[0m\u001b[0m\n\u001b[0m",
      "\u001b[1;32m~\\AppData\\Local\\Temp/ipykernel_5212/847616876.py\u001b[0m in \u001b[0;36mmul\u001b[1;34m(a, b, add)\u001b[0m\n\u001b[0;32m      5\u001b[0m \u001b[1;32mdef\u001b[0m \u001b[0mmul\u001b[0m\u001b[1;33m(\u001b[0m\u001b[0ma\u001b[0m\u001b[1;33m,\u001b[0m\u001b[0mb\u001b[0m\u001b[1;33m,\u001b[0m\u001b[0madd\u001b[0m\u001b[1;33m)\u001b[0m\u001b[1;33m:\u001b[0m\u001b[1;33m\u001b[0m\u001b[1;33m\u001b[0m\u001b[0m\n\u001b[0;32m      6\u001b[0m         \u001b[0mm\u001b[0m\u001b[1;33m=\u001b[0m\u001b[0ma\u001b[0m\u001b[1;33m*\u001b[0m\u001b[0mb\u001b[0m\u001b[1;33m\u001b[0m\u001b[1;33m\u001b[0m\u001b[0m\n\u001b[1;32m----> 7\u001b[1;33m         \u001b[1;32mreturn\u001b[0m \u001b[0mm\u001b[0m\u001b[1;33m(\u001b[0m\u001b[0ma\u001b[0m\u001b[1;33m,\u001b[0m\u001b[0mb\u001b[0m\u001b[1;33m)\u001b[0m\u001b[1;33m,\u001b[0m\u001b[0mc\u001b[0m\u001b[1;33m\u001b[0m\u001b[1;33m\u001b[0m\u001b[0m\n\u001b[0m\u001b[0;32m      8\u001b[0m \u001b[0mmul\u001b[0m\u001b[1;33m(\u001b[0m\u001b[1;36m2\u001b[0m\u001b[1;33m,\u001b[0m\u001b[1;36m3\u001b[0m\u001b[1;33m,\u001b[0m\u001b[0madd\u001b[0m\u001b[1;33m)\u001b[0m\u001b[1;33m\u001b[0m\u001b[1;33m\u001b[0m\u001b[0m\n",
      "\u001b[1;31mTypeError\u001b[0m: 'int' object is not callable"
     ]
    }
   ],
   "source": [
    "# Write a python program to access a function inside a function.\n",
    "def add(a,b):\n",
    "    c=a+b\n",
    "    return c\n",
    "def mul(a,b,add):\n",
    "        m=a*b\n",
    "        return m(a,b),c\n",
    "mul(2,3,add)\n"
   ]
  },
  {
   "cell_type": "code",
   "execution_count": 37,
   "id": "066b9b06",
   "metadata": {},
   "outputs": [
    {
     "name": "stdout",
     "output_type": "stream",
     "text": [
      "Lower case letter is: 6\n",
      "Upper case letter is: 1\n"
     ]
    }
   ],
   "source": [
    "'''Write a python program to create a function that accepts a string and calculate the\n",
    "number of upper case letters and lower case letters.'''\n",
    "def string(n):\n",
    "    a=0\n",
    "    b=0\n",
    "    for e in n:\n",
    "        if e.islower():\n",
    "            a+=1\n",
    "        elif e.isupper():\n",
    "            b+=1\n",
    "    print(\"Lower case letter is:\",a)\n",
    "    print(\"Upper case letter is:\",b)\n",
    "    \n",
    "    \n",
    "string(\"Vaibhav\")"
   ]
  },
  {
   "cell_type": "code",
   "execution_count": 41,
   "id": "70262317",
   "metadata": {},
   "outputs": [
    {
     "name": "stdout",
     "output_type": "stream",
     "text": [
      "Pangram\n"
     ]
    }
   ],
   "source": [
    "# Write a python program to create a function to check whether a string is a pangram or not.\n",
    "def pangram(str):\n",
    "    alphabet=\"abcdefghijklmnopqrstuvwxyz\"\n",
    "    for char in alphabet:\n",
    "        if char in str.lower():\n",
    "            print(\"Pangram\")\n",
    "            break\n",
    "    else:\n",
    "        print(\"not pangram\")\n",
    "pangram(\"my name is Vaibhav\")"
   ]
  },
  {
   "cell_type": "code",
   "execution_count": null,
   "id": "a53fb943",
   "metadata": {},
   "outputs": [],
   "source": []
  }
 ],
 "metadata": {
  "kernelspec": {
   "display_name": "Python 3 (ipykernel)",
   "language": "python",
   "name": "python3"
  },
  "language_info": {
   "codemirror_mode": {
    "name": "ipython",
    "version": 3
   },
   "file_extension": ".py",
   "mimetype": "text/x-python",
   "name": "python",
   "nbconvert_exporter": "python",
   "pygments_lexer": "ipython3",
   "version": "3.9.7"
  }
 },
 "nbformat": 4,
 "nbformat_minor": 5
}
